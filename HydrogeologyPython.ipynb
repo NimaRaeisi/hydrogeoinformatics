{
 "cells": [
  {
   "cell_type": "markdown",
   "id": "96becaaa",
   "metadata": {},
   "source": [
    "# Using Python to Calculate Basic Hydrogeological Formulas"
   ]
  },
  {
   "cell_type": "markdown",
   "id": "2dda825f",
   "metadata": {},
   "source": [
    "## Theis Equation:"
   ]
  },
  {
   "cell_type": "code",
   "execution_count": 3,
   "id": "f0aa2ecd",
   "metadata": {},
   "outputs": [
    {
     "name": "stdout",
     "output_type": "stream",
     "text": [
      "Drawdown: 2.7542735020477056 m\n"
     ]
    }
   ],
   "source": [
    "import numpy as np\n",
    "from scipy.special import exp1\n",
    "\n",
    "def theis_drawdown(Q, T, r, t):\n",
    "    u = r ** 2 * S / (4 *T* t)\n",
    "    return Q / (4 * np.pi * T) * exp1(u)\n",
    "\n",
    "# Example Usage\n",
    "Q = 1000  # Pumping rate in m^3/day\n",
    "T = 500  # Transmissivity in m^2/day\n",
    "r = 50   # Distance from well in meters\n",
    "t = 365   # Time since pumping began in days\n",
    "S=0.000005\n",
    "drawdown = theis_drawdown(Q, T, r, t)\n",
    "print(\"Drawdown:\", drawdown, \"m\")\n"
   ]
  },
  {
   "cell_type": "markdown",
   "id": "e509834b",
   "metadata": {},
   "source": [
    "### Jacob Straight-Line Method:"
   ]
  },
  {
   "cell_type": "code",
   "execution_count": 2,
   "id": "f7da07da",
   "metadata": {},
   "outputs": [
    {
     "name": "stdout",
     "output_type": "stream",
     "text": [
      "Drawdown: 0.02350911492347369 m\n"
     ]
    }
   ],
   "source": [
    "def jacob_method(Q, T, t):\n",
    "    return Q / (4 * np.pi * T) * np.log10(t)\n",
    "\n",
    "# Example Usage\n",
    "T_est = 500  # Estimated transmissivity in m^2/day\n",
    "Q = 1000      # Pumping rate in m^3/day\n",
    "t = 365      # Time since pumping began in days\n",
    "\n",
    "drawdown = jacob_method(Q, T_est, t)\n",
    "print(\"Drawdown:\", drawdown, \"m\")\n"
   ]
  },
  {
   "cell_type": "markdown",
   "id": "d28e9f01",
   "metadata": {},
   "source": [
    "### Hantush Equation:"
   ]
  },
  {
   "cell_type": "code",
   "execution_count": 4,
   "id": "aa505850",
   "metadata": {},
   "outputs": [
    {
     "name": "stdout",
     "output_type": "stream",
     "text": [
      "Drawdown: 0.00011030984252810824 m\n"
     ]
    }
   ],
   "source": [
    "def hantush_drawdown(Q, T, S, rw, b, r, t):\n",
    "    u = r ** 2 * T / (4 * t)\n",
    "    return (Q / (4 * np.pi * T) * exp1(u)) - (S / (2 * np.pi) * np.log((rw ** 2) / (4 * b ** 2) + 0.5))\n",
    "\n",
    "# Example Usage\n",
    "S = 0.001   # Storativity\n",
    "rw = 0.2    # Well radius in meters\n",
    "b = 20      # Aquifer thickness in meters\n",
    "\n",
    "drawdown = hantush_drawdown(Q, T, S, rw, b, r, t)\n",
    "print(\"Drawdown:\", drawdown, \"m\")\n"
   ]
  },
  {
   "cell_type": "markdown",
   "id": "b047e091",
   "metadata": {},
   "source": [
    "### Cooper-Jacob Equation:"
   ]
  },
  {
   "cell_type": "code",
   "execution_count": 3,
   "id": "52089312",
   "metadata": {},
   "outputs": [
    {
     "name": "stdout",
     "output_type": "stream",
     "text": [
      "Drawdown: 2.706586878613719e-06 m\n"
     ]
    }
   ],
   "source": [
    "def cooper_jacob_drawdown(Q, T, Ss, r, t):\n",
    "    u = r ** 2 * T / (4 * t)\n",
    "    return (Q / (4 * np.pi * T) * exp1(u)) + (Ss / (4 * np.pi) * np.log(t))\n",
    "\n",
    "# Example Usage\n",
    "Ss = 1e-5  # Specific storage\n",
    "drawdown = cooper_jacob_drawdown(Q, T, Ss, r, t)\n",
    "print(\"Drawdown:\", drawdown, \"m\")"
   ]
  },
  {
   "cell_type": "markdown",
   "id": "1b68ee2f",
   "metadata": {},
   "source": [
    "### Neuman Equation:"
   ]
  },
  {
   "cell_type": "code",
   "execution_count": 4,
   "id": "9aea6de1",
   "metadata": {},
   "outputs": [
    {
     "name": "stdout",
     "output_type": "stream",
     "text": [
      "Drawdown (Neuman Equation): 0.09537700184400684\n"
     ]
    }
   ],
   "source": [
    "from scipy.special import exp1\n",
    "\n",
    "def neuman_equation(Q, T, r, t):\n",
    "    u = r**2 / (4 * T * t)\n",
    "    w_u = exp1(u)\n",
    "    return (Q / (4 * np.pi * T)) * (w_u - np.log(u) + 0.5772156649)\n",
    "\n",
    "# Sample parameters\n",
    "Q = 100   # Pumping rate (L³/T)\n",
    "T = 1000  # Transmissivity (L²/T)\n",
    "r = 10    # Radial distance from the well (L)\n",
    "t = 10    # Time (T)\n",
    "\n",
    "# Calculate drawdown\n",
    "s_neuman = neuman_equation(Q, T, r, t)\n",
    "print(\"Drawdown (Neuman Equation):\", s_neuman)\n"
   ]
  },
  {
   "cell_type": "markdown",
   "id": "29ca6361",
   "metadata": {},
   "source": [
    "### Chow Equation"
   ]
  },
  {
   "cell_type": "code",
   "execution_count": 5,
   "id": "9effef96",
   "metadata": {},
   "outputs": [
    {
     "name": "stdout",
     "output_type": "stream",
     "text": [
      "Estimated Transmissivity (T): 0.0001591545709192768\n",
      "Estimated Storativity (S): 0.005\n"
     ]
    }
   ],
   "source": [
    "def chow_method(Q, s, r):\n",
    "    \"\"\"\n",
    "    Estimate transmissivity (T) using Chow's method.\n",
    "    \n",
    "    Parameters:\n",
    "        Q (float): Pumping rate (cubic meters per second or cubic feet per second).\n",
    "        s (float): Drawdown (meters or feet).\n",
    "        r (float): Radial distance from the well (meters or feet).\n",
    "        \n",
    "    Returns:\n",
    "        T (float): Transmissivity of the aquifer (square meters per second or square feet per second).\n",
    "    \"\"\"\n",
    "    T = (Q / (4 * 3.1416)) * (1 / s)\n",
    "    return T\n",
    "\n",
    "def estimate_storativity(Q, ds_dt, T):\n",
    "    \"\"\"\n",
    "    Estimate storativity (S) using Theis equation.\n",
    "    \n",
    "    Parameters:\n",
    "        Q (float): Pumping rate (cubic meters per second or cubic feet per second).\n",
    "        ds_dt (float): Rate of drawdown change (meters per second or feet per second).\n",
    "        T (float): Transmissivity of the aquifer (square meters per second or square feet per second).\n",
    "        \n",
    "    Returns:\n",
    "        S (float): Storativity of the aquifer (dimensionless).\n",
    "    \"\"\"\n",
    "    S = (Q / (4 * 3.1416 * T)) * ds_dt\n",
    "    return S\n",
    "\n",
    "# Sample data\n",
    "Q = 0.01  # Pumping rate (cubic meters per second)\n",
    "s = 5.0   # Drawdown (meters)\n",
    "r = 100   # Radial distance from the well (meters)\n",
    "ds_dt = 0.001  # Rate of drawdown change (meters per second)\n",
    "\n",
    "# Estimate transmissivity using Chow's method\n",
    "T = chow_method(Q, s, r)\n",
    "print(\"Estimated Transmissivity (T):\", T)\n",
    "\n",
    "# Estimate storativity using Theis equation\n",
    "S = estimate_storativity(Q, ds_dt, T)\n",
    "print(\"Estimated Storativity (S):\", S)\n"
   ]
  },
  {
   "cell_type": "code",
   "execution_count": 1,
   "id": "e7077a1e",
   "metadata": {},
   "outputs": [],
   "source": [
    "#Boulton"
   ]
  },
  {
   "cell_type": "code",
   "execution_count": 2,
   "id": "729777ca",
   "metadata": {},
   "outputs": [
    {
     "data": {
      "image/png": "[encoded data removed]",
      "text/plain": [
       "<Figure size 640x480 with 1 Axes>"
      ]
     },
     "metadata": {},
     "output_type": "display_data"
    },
    {
     "data": {
      "image/png": "[encoded data removed]",
      "text/plain": [
       "<Figure size 640x480 with 1 Axes>"
      ]
     },
     "metadata": {},
     "output_type": "display_data"
    }
   ],
   "source": [
    "import numpy as np\n",
    "from scipy.integrate import quad\n",
    "import matplotlib.pyplot as plt\n",
    "def compute_well_function(Ua, Ub, B):\n",
    "    def integrand(u, B):\n",
    "        return np.exp(-(B) * u) / u\n",
    "    W, _ = quad(integrand, Ua, Ub, args=(B,))\n",
    "    return W\n",
    "\n",
    "def Boulton_equation(Q, T, r, S, Sy, t, D, Kh, Kv):\n",
    "    \n",
    "    Ua =  ((r**2) * S)/(4 * T * t) \n",
    "    Ub =   ((r**2) * Sy)/ (4 * T * t)\n",
    "    B = ((r**2) * Kv) / ((D**2) * Kh)\n",
    "    W = compute_well_function(Ua, Ub, B)\n",
    "    \n",
    "    # Compute drawdown using Boulton equation\n",
    "    s = (Q / (4 * np.pi * T)) * W\n",
    "    return s\n",
    "\n",
    "# Example usage:\n",
    "Q = 2000    # Pumping rate (m^3/day)\n",
    "T =50   # Transmissivity (m^2/day)\n",
    "r = 100        # Distance from pumping well (m)\n",
    "S = 0.0025   # Storativity\n",
    "Sy = 0.02     # Specific yield\n",
    "D = 25      # Aquifer thickness (m)\n",
    "Kh = 1     # Horizontal hydraulic conductivity (m/day)\n",
    "Kv = 0.001     # Vertical hydraulic conductivity (m/day)\n",
    "t_values = np.linspace(0.01, 1, 1000)  # Time since pumping began (days)\n",
    "\n",
    "drawdown_values = [Boulton_equation(Q, T, r, S, Sy, t, D, Kh, Kv) for t in t_values]\n",
    "# Plot drawdown vs. time\n",
    "plt.plot(t_values, drawdown_values)\n",
    "plt.xlabel('Time (days)')\n",
    "plt.ylabel('Drawdown (m)')\n",
    "plt.title('Boulton Equation Drawdown Curve')\n",
    "plt.grid(True)\n",
    "plt.xscale('log')  # Set x-axis scale to logarithmic\n",
    "plt.yscale('log')  # Set y-axis scale to logarithmic\n",
    "plt.show()\n",
    "\n",
    "\n",
    "import numpy as np\n",
    "from scipy.integrate import quad\n",
    "import matplotlib.pyplot as plt\n",
    "def compute_well_function(Ua, Ub, B):\n",
    "    def integrand(u, B):\n",
    "        return np.exp(-(B) * u) / u\n",
    "    W, _ = quad(integrand, Ua, Ub, args=(B,))\n",
    "    return W\n",
    "\n",
    "def Boulton_equation(Q, T, r, S, Sy, t, D, Kh, Kv):\n",
    "    \n",
    "    Ua =  ((r**2) * S)/(4 * T * t) \n",
    "    Ub =   ((r**2) * Sy)/ (4 * T * t)\n",
    "    B = ((r**2) * Kv) / ((D**2) * Kh)\n",
    "    W = compute_well_function(Ua, Ub, B)\n",
    "    \n",
    "    # Compute drawdown using Boulton equation\n",
    "    s = (Q / (4 * np.pi * T)) * W\n",
    "    return s\n",
    "\n",
    "# Example usage:\n",
    "Q = 2000    # Pumping rate (m^3/day)\n",
    "T =50   # Transmissivity (m^2/day)\n",
    "r = 100        # Distance from pumping well (m)\n",
    "S = 0.25   # Storativity\n",
    "Sy = 2     # Specific yield\n",
    "D = 25      # Aquifer thickness (m)\n",
    "Kh = 10    # Horizontal hydraulic conductivity (m/day)\n",
    "Kv = 0.001    # Vertical hydraulic conductivity (m/day)\n",
    "t_values = np.linspace(1, 2, 1000)  # Time since pumping began (days)\n",
    "\n",
    "drawdown_values = [Boulton_equation(Q, T, r, S, Sy, t, D, Kh, Kv) for t in t_values]\n",
    "# Plot drawdown vs. time\n",
    "plt.plot(t_values, drawdown_values)\n",
    "plt.xlabel('Time (days)')\n",
    "plt.ylabel('Drawdown (m)')\n",
    "plt.title('Boulton Equation Drawdown Curve')\n",
    "plt.grid(True)\n",
    "plt.xscale('log')  # Set x-axis scale to logarithmic\n",
    "plt.yscale('log')  # Set y-axis scale to logarithmic\n",
    "plt.show()\n"
   ]
  },
  {
   "cell_type": "code",
   "execution_count": null,
   "id": "84c548c5",
   "metadata": {},
   "outputs": [],
   "source": []
  }
 ],
 "metadata": {
  "kernelspec": {
   "display_name": "Python 3 (ipykernel)",
   "language": "python",
   "name": "python3"
  },
  "language_info": {
   "codemirror_mode": {
    "name": "ipython",
    "version": 3
   },
   "file_extension": ".py",
   "mimetype": "text/x-python",
   "name": "python",
   "nbconvert_exporter": "python",
   "pygments_lexer": "ipython3",
   "version": "3.11.4"
  }
 },
 "nbformat": 4,
 "nbformat_minor": 5
}
